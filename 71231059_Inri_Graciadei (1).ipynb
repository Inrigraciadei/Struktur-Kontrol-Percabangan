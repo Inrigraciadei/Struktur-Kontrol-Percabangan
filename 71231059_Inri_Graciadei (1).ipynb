{
  "nbformat": 4,
  "nbformat_minor": 0,
  "metadata": {
    "colab": {
      "provenance": []
    },
    "kernelspec": {
      "name": "python3",
      "display_name": "Python 3"
    },
    "language_info": {
      "name": "python"
    }
  },
  "cells": [
    {
      "cell_type": "code",
      "execution_count": null,
      "metadata": {
        "id": "pDo8Zy-BvIwJ"
      },
      "outputs": [],
      "source": []
    },
    {
      "cell_type": "markdown",
      "source": [
        "Soal 1 Demam"
      ],
      "metadata": {
        "id": "ELchtGUVvWNU"
      }
    },
    {
      "cell_type": "code",
      "source": [
        "suhu = input(\"Masukkan suhu tubuh anda: \")\n",
        "try:\n",
        "    suhu = int(suhu)\n",
        "    if suhu >= 38:\n",
        "        print(\"Anda sedang demam \")\n",
        "    else:\n",
        "        print(\"Anda sehat dan tidak demam \")\n",
        "except:\n",
        "    print(\"Suhu anda tidak valid \")"
      ],
      "metadata": {
        "colab": {
          "base_uri": "https://localhost:8080/"
        },
        "id": "6sj0BTynvYoO",
        "outputId": "1cb56ab4-6307-408d-f710-c1c2b05089d9"
      },
      "execution_count": 1,
      "outputs": [
        {
          "output_type": "stream",
          "name": "stdout",
          "text": [
            "Masukkan suhu tubuh anda: 22\n",
            "Anda sehat dan tidak demam \n"
          ]
        }
      ]
    },
    {
      "cell_type": "markdown",
      "source": [
        "Soal 1 Positif Negatif"
      ],
      "metadata": {
        "id": "-_RpHfxavhaX"
      }
    },
    {
      "cell_type": "code",
      "source": [
        "angka = input(\"Masukkan suatu angka: \")\n",
        "try:\n",
        "    angka = int(angka)\n",
        "    if angka == 0:\n",
        "        print(\"Angka nol \")\n",
        "    elif angka > 0:\n",
        "        print(\"Angka positif \")\n",
        "    elif angka < 0:\n",
        "        print(\"Angka negatif \")\n",
        "except:\n",
        "    print(\"Input angka salah \")"
      ],
      "metadata": {
        "colab": {
          "base_uri": "https://localhost:8080/"
        },
        "id": "EWB4c3_lvkpv",
        "outputId": "51b0702f-b07e-4803-ab3c-71ff695eec58"
      },
      "execution_count": 2,
      "outputs": [
        {
          "output_type": "stream",
          "name": "stdout",
          "text": [
            "Masukkan suatu angka: 15\n",
            "Angka positif \n"
          ]
        }
      ]
    },
    {
      "cell_type": "markdown",
      "source": [
        "Soal 1 Nilai Terbesar"
      ],
      "metadata": {
        "id": "fYEDvoervswu"
      }
    },
    {
      "cell_type": "code",
      "source": [
        "a = input(\"Masukkan angka pertama: \")\n",
        "b = input(\"Masukkan angka kedua: \")\n",
        "c = input(\"Masukkan angka ketiga: \")\n",
        "try:\n",
        "    a = int(a)\n",
        "    b = int(b)\n",
        "    c = int(c)\n",
        "\n",
        "    if a > b and a > c:\n",
        "        print(\"Angka terbesar: \", a)\n",
        "    elif b > a and b > c:\n",
        "        print(\"Angka terbesar: \", b)\n",
        "    elif c > a and c > b:\n",
        "        print(\"Angka terbesar: \", c)\n",
        "except:\n",
        "    print(\"Angka anda salah\")"
      ],
      "metadata": {
        "colab": {
          "base_uri": "https://localhost:8080/"
        },
        "id": "8RIU4-xBvvE6",
        "outputId": "afd3cca4-65fe-46a7-c836-a18613dea675"
      },
      "execution_count": 3,
      "outputs": [
        {
          "output_type": "stream",
          "name": "stdout",
          "text": [
            "Masukkan angka pertama: 13\n",
            "Masukkan angka kedua: 22\n",
            "Masukkan angka ketiga: 15\n",
            "Angka terbesar:  22\n"
          ]
        }
      ]
    },
    {
      "cell_type": "markdown",
      "source": [
        "Soal 2"
      ],
      "metadata": {
        "id": "AJgCdq5jv7As"
      }
    },
    {
      "cell_type": "code",
      "source": [
        "angka = int(input(\"Masukkan suatu angka: \"))\n",
        "print(\"Angka positif\" if angka > 0 else \"Angka negatif\" if angka < 0 else \"Angka nol\" if angka == 0 else 0)"
      ],
      "metadata": {
        "colab": {
          "base_uri": "https://localhost:8080/"
        },
        "id": "AOM-8GwBv-W2",
        "outputId": "1d06f034-baa5-4458-cdc7-705b58cd3b35"
      },
      "execution_count": 4,
      "outputs": [
        {
          "output_type": "stream",
          "name": "stdout",
          "text": [
            "Masukkan suatu angka: 5\n",
            "Angka positif\n"
          ]
        }
      ]
    },
    {
      "cell_type": "markdown",
      "source": [
        "Soal 3"
      ],
      "metadata": {
        "id": "cchY1oiewGNr"
      }
    },
    {
      "cell_type": "code",
      "source": [
        "import calendar\n",
        "try:\n",
        "    tahun = 2020\n",
        "    bulan = int(input(\"Masukkan bulan(1-12): \"))\n",
        "    if bulan < 1 or bulan > 12:\n",
        "        print(\"Bulan yang anda input tidak valid\")\n",
        "    else:\n",
        "        skip, hari = calendar.monthrange(tahun, bulan)\n",
        "        print(\"Jumlah hari: \", hari)\n",
        "except:\n",
        "    print(\"Input yang anda masukkan tidak sesuai\")"
      ],
      "metadata": {
        "colab": {
          "base_uri": "https://localhost:8080/"
        },
        "id": "bus4rG6ewH-E",
        "outputId": "9d722116-5296-4495-f52c-4303fe3057e5"
      },
      "execution_count": 5,
      "outputs": [
        {
          "output_type": "stream",
          "name": "stdout",
          "text": [
            "Masukkan bulan(1-12): 9\n",
            "Jumlah hari:  30\n"
          ]
        }
      ]
    },
    {
      "cell_type": "markdown",
      "source": [
        "Soal 4"
      ],
      "metadata": {
        "id": "9QIdjLhrwPQg"
      }
    },
    {
      "cell_type": "code",
      "source": [
        "try:\n",
        "    print(\"Masukkan Bilangan Bulat!\")\n",
        "    sisi1 = int(input(\"Masukkan sisi 1: \"))\n",
        "    sisi2 = int(input(\"Masukkan sisi 2: \"))\n",
        "    sisi3 = int(input(\"Masukkan sisi 3: \"))\n",
        "\n",
        "    if sisi1 == sisi2 == sisi3:\n",
        "        print(\"Memiliki 3 sisi yang sama\")\n",
        "    elif sisi1 == sisi2 != sisi3 or sisi1 != sisi2 == sisi3 or sisi1 == sisi3 != sisi2:\n",
        "        print(\"Memiliki 2 sisi yang sama\")\n",
        "    elif sisi1 != sisi2 != sisi3:\n",
        "        print(\"Tidak memiliki sisi yang sama\")\n",
        "except:\n",
        "    print(\"Anda salah memasukkan input sisi\")"
      ],
      "metadata": {
        "colab": {
          "base_uri": "https://localhost:8080/"
        },
        "id": "RiWWnnC2wQoX",
        "outputId": "e78a12a6-e659-4f68-e68e-615cd2f6e1f5"
      },
      "execution_count": 6,
      "outputs": [
        {
          "output_type": "stream",
          "name": "stdout",
          "text": [
            "Masukkan Bilangan Bulat!\n",
            "Masukkan sisi 1: 25\n",
            "Masukkan sisi 2: 2\n",
            "Masukkan sisi 3: 21\n",
            "Tidak memiliki sisi yang sama\n"
          ]
        }
      ]
    }
  ]
}